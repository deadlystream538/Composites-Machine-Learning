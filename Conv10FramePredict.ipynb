{
 "cells": [
  {
   "cell_type": "code",
   "execution_count": 17,
   "metadata": {},
   "outputs": [],
   "source": [
    "import torch\n",
    "import torch.nn as nn\n",
    "import torch.optim as optim\n",
    "import numpy as np\n",
    "from torch.utils.data import DataLoader\n",
    "from tqdm import tqdm\n",
    "import matplotlib.pyplot as plt\n",
    "\n",
    "# Set device\n",
    "device = torch.device('cuda' if torch.cuda.is_available() else 'cpu')\n",
    "\n",
    "class ConvLSTMCell(nn.Module):\n",
    "    def __init__(self, input_channels, hidden_channels, kernel_size):\n",
    "        super(ConvLSTMCell, self).__init__()\n",
    "        \n",
    "        self.input_channels = input_channels\n",
    "        self.hidden_channels = hidden_channels\n",
    "        self.kernel_size = kernel_size\n",
    "        self.padding = kernel_size // 2\n",
    "        \n",
    "        self.conv = nn.Conv2d(\n",
    "            in_channels=self.input_channels + self.hidden_channels,\n",
    "            out_channels=4 * self.hidden_channels,\n",
    "            kernel_size=self.kernel_size,\n",
    "            padding=self.padding,\n",
    "            bias=True\n",
    "        )\n",
    "\n",
    "    def forward(self, input_tensor, cur_state):\n",
    "        h_cur, c_cur = cur_state\n",
    "        combined = torch.cat([input_tensor, h_cur], dim=1)\n",
    "        \n",
    "        conv_output = self.conv(combined)\n",
    "        cc_i, cc_f, cc_o, cc_g = torch.split(conv_output, self.hidden_channels, dim=1)\n",
    "        \n",
    "        i = torch.sigmoid(cc_i)\n",
    "        f = torch.sigmoid(cc_f)\n",
    "        o = torch.sigmoid(cc_o)\n",
    "        g = torch.tanh(cc_g)\n",
    "\n",
    "        c_next = f * c_cur + i * g\n",
    "        h_next = o * torch.tanh(c_next)\n",
    "        \n",
    "        return h_next, c_next\n",
    "\n",
    "class FramePredictor(nn.Module):\n",
    "    def __init__(self, input_channels=1, hidden_channels=64):\n",
    "        super(FramePredictor, self).__init__()\n",
    "        \n",
    "        # Proper weight initialization function\n",
    "        def init_weights(m):\n",
    "            if isinstance(m, (nn.Conv2d, nn.ConvTranspose2d)):\n",
    "                nn.init.kaiming_normal_(m.weight)\n",
    "                if m.bias is not None:\n",
    "                    nn.init.zeros_(m.bias)\n",
    "        \n",
    "        # Encoder with BatchNorm\n",
    "        self.conv1 = nn.Sequential(\n",
    "            nn.Conv2d(input_channels, 16, kernel_size=3, padding=1),\n",
    "            nn.BatchNorm2d(16),\n",
    "            nn.ReLU()\n",
    "        )\n",
    "        self.conv2 = nn.Sequential(\n",
    "            nn.Conv2d(16, 32, kernel_size=3, padding=1),\n",
    "            nn.BatchNorm2d(32),\n",
    "            nn.ReLU()\n",
    "        )\n",
    "        self.conv3 = nn.Sequential(\n",
    "            nn.Conv2d(32, 64, kernel_size=3, padding=1),\n",
    "            nn.BatchNorm2d(64),\n",
    "            nn.ReLU()\n",
    "        )\n",
    "        \n",
    "        # ConvLSTM\n",
    "        self.convlstm = ConvLSTMCell(64, hidden_channels, kernel_size=3)\n",
    "        \n",
    "        # Decoder with BatchNorm\n",
    "        self.deconv1 = nn.Sequential(\n",
    "            nn.ConvTranspose2d(hidden_channels, 32, kernel_size=3, padding=1),\n",
    "            nn.BatchNorm2d(32),\n",
    "            nn.ReLU()\n",
    "        )\n",
    "        self.deconv2 = nn.Sequential(\n",
    "            nn.ConvTranspose2d(32, 16, kernel_size=3, padding=1),\n",
    "            nn.BatchNorm2d(16),\n",
    "            nn.ReLU()\n",
    "        )\n",
    "        self.deconv3 = nn.ConvTranspose2d(16, input_channels, kernel_size=3, padding=1)\n",
    "        \n",
    "        # Apply weight initialization\n",
    "        self.apply(init_weights)\n",
    "        \n",
    "    def forward(self, x):\n",
    "        batch_size, _, seq_len, height, width = x.size()\n",
    "        \n",
    "        h = torch.zeros(batch_size, self.convlstm.hidden_channels, height, width).to(x.device)\n",
    "        c = torch.zeros(batch_size, self.convlstm.hidden_channels, height, width).to(x.device)\n",
    "        \n",
    "        for t in range(seq_len):\n",
    "            current = x[:, :, t, :, :]\n",
    "            \n",
    "            # Encoder\n",
    "            enc1 = self.conv1(current)\n",
    "            enc2 = self.conv2(enc1)\n",
    "            enc3 = self.conv3(enc2)\n",
    "            \n",
    "            # ConvLSTM\n",
    "            h, c = self.convlstm(enc3, (h, c))\n",
    "        \n",
    "        # Decoder\n",
    "        dec1 = self.deconv1(h)\n",
    "        dec2 = self.deconv2(dec1)\n",
    "        # Remove sigmoid, use tanh instead for better gradient flow\n",
    "        output = torch.tanh(self.deconv3(dec2))\n",
    "        # Scale output to [0, 1] range\n",
    "        output = (output + 1) / 2\n",
    "        \n",
    "        return output\n",
    "\n",
    "def collate(batch):\n",
    "    # Add debugging prints\n",
    "    batch = torch.tensor(batch).unsqueeze(1)\n",
    "    print(\"Raw input range:\", batch.min().item(), batch.max().item())\n",
    "    batch = batch / 255.0\n",
    "    print(\"After scaling:\", batch.min().item(), batch.max().item())\n",
    "    batch = batch.to(device)\n",
    "    rand = np.random.randint(10,20)\n",
    "    return batch[:,:,rand-10:rand], batch[:,:,rand]\n",
    "\n",
    "# Combined loss function\n",
    "class CombinedLoss(nn.Module):\n",
    "    def __init__(self, mse_weight=1.0, l1_weight=0.1):\n",
    "        super().__init__()\n",
    "        self.mse_weight = mse_weight\n",
    "        self.l1_weight = l1_weight\n",
    "        self.mse = nn.MSELoss()\n",
    "        self.l1 = nn.L1Loss()\n",
    "    \n",
    "    def forward(self, pred, target):\n",
    "        return self.mse_weight * self.mse(pred, target) + self.l1_weight * self.l1(pred, target)"
   ]
  },
  {
   "cell_type": "code",
   "execution_count": null,
   "metadata": {},
   "outputs": [],
   "source": [
    "# Load Data as Numpy Array\n",
    "MovingMNIST = np.load('C:/Users/arnab/Desktop/Github/MNIST/mnist_test_seq.npy').transpose(1, 0, 2, 3)\n",
    "\n",
    "# Shuffle Data\n",
    "np.random.shuffle(MovingMNIST)\n",
    "\n",
    "# Train, Test, Validation splits\n",
    "train_data = MovingMNIST[:8000]         \n",
    "val_data = MovingMNIST[8000:9000]       \n",
    "test_data = MovingMNIST[9000:10000]     \n",
    "\n",
    "def collate(batch):\n",
    "\n",
    "    # Add channel dim, scale pixels between 0 and 1, send to GPU\n",
    "    batch = torch.tensor(batch).unsqueeze(1)     \n",
    "    batch = batch / 255.0                        \n",
    "    batch = batch.to(device)                     \n",
    "\n",
    "    # Randomly pick 10 frames as input, 11th frame is target\n",
    "    rand = np.random.randint(10,20)                     \n",
    "    return batch[:,:,rand-10:rand], batch[:,:,rand]     \n",
    "\n",
    "\n",
    "# Training Data Loader\n",
    "train_loader = DataLoader(train_data, shuffle=True, \n",
    "                        batch_size=16, collate_fn=collate)\n",
    "\n",
    "# Validation Data Loader\n",
    "val_loader = DataLoader(val_data, shuffle=True, \n",
    "                        batch_size=16, collate_fn=collate)"
   ]
  },
  {
   "cell_type": "code",
   "execution_count": 19,
   "metadata": {},
   "outputs": [],
   "source": [
    "def plot_losses(train_losses, val_losses):\n",
    "    \"\"\"Plot training and validation losses over epochs.\"\"\"\n",
    "    plt.figure(figsize=(10, 6))\n",
    "    plt.plot(train_losses, label='Training Loss', color='blue')\n",
    "    plt.plot(val_losses, label='Validation Loss', color='red')\n",
    "    plt.xlabel('Epoch')\n",
    "    plt.ylabel('Loss')\n",
    "    plt.title('Training and Validation Losses Over Time')\n",
    "    plt.legend()\n",
    "    plt.grid(True)\n",
    "    \n",
    "    # Add minimum loss values to the plot\n",
    "    min_train_loss = min(train_losses)\n",
    "    min_val_loss = min(val_losses)\n",
    "    min_train_epoch = train_losses.index(min_train_loss)\n",
    "    min_val_epoch = val_losses.index(min_val_loss)\n",
    "    \n",
    "    plt.annotate(f'Min Train Loss: {min_train_loss:.4f}',\n",
    "                 xy=(min_train_epoch, min_train_loss),\n",
    "                 xytext=(10, 10),\n",
    "                 textcoords='offset points',\n",
    "                 ha='right',\n",
    "                 va='bottom',\n",
    "                 bbox=dict(boxstyle='round,pad=0.5', fc='yellow', alpha=0.5),\n",
    "                 arrowprops=dict(arrowstyle='->', connectionstyle='arc3,rad=0'))\n",
    "    \n",
    "    plt.annotate(f'Min Val Loss: {min_val_loss:.4f}',\n",
    "                 xy=(min_val_epoch, min_val_loss),\n",
    "                 xytext=(10, 10),\n",
    "                 textcoords='offset points',\n",
    "                 ha='right',\n",
    "                 va='top',\n",
    "                 bbox=dict(boxstyle='round,pad=0.5', fc='yellow', alpha=0.5),\n",
    "                 arrowprops=dict(arrowstyle='->', connectionstyle='arc3,rad=0'))\n",
    "    \n",
    "    plt.tight_layout()\n",
    "    plt.show()"
   ]
  },
  {
   "cell_type": "code",
   "execution_count": 24,
   "metadata": {},
   "outputs": [],
   "source": [
    "def train_model(model, train_loader, val_loader, num_epochs=50):\n",
    "    criterion = CombinedLoss()\n",
    "    optimizer = optim.Adam(model.parameters(), lr=0.001)\n",
    "    scheduler = optim.lr_scheduler.ReduceLROnPlateau(optimizer, mode='min', factor=0.5, patience=5, verbose=True)\n",
    "    \n",
    "    max_grad_norm = 1.0\n",
    "    best_val_loss = float('inf')\n",
    "    best_model = None\n",
    "    \n",
    "    # Lists to store losses for plotting\n",
    "    train_losses = []\n",
    "    val_losses = []\n",
    "    \n",
    "    for epoch in range(num_epochs):\n",
    "        # Training\n",
    "        model.train()\n",
    "        train_loss = 0\n",
    "        train_bar = tqdm(train_loader, desc=f'Training Epoch {epoch+1}/{num_epochs}')\n",
    "        \n",
    "        for inputs, targets in train_bar:\n",
    "            optimizer.zero_grad()\n",
    "            outputs = model(inputs)\n",
    "            loss = criterion(outputs, targets)\n",
    "            loss.backward()\n",
    "            \n",
    "            # Gradient clipping\n",
    "            torch.nn.utils.clip_grad_norm_(model.parameters(), max_grad_norm)\n",
    "            \n",
    "            optimizer.step()\n",
    "            \n",
    "            train_loss += loss.item()\n",
    "            train_bar.set_postfix({'loss': f'{loss.item():.4f}'})\n",
    "        \n",
    "        # Validation\n",
    "        model.eval()\n",
    "        val_loss = 0\n",
    "        val_bar = tqdm(val_loader, desc=f'Validation Epoch {epoch+1}/{num_epochs}')\n",
    "        \n",
    "        with torch.no_grad():\n",
    "            for inputs, targets in val_bar:\n",
    "                outputs = model(inputs)\n",
    "                loss = criterion(outputs, targets)\n",
    "                val_loss += loss.item()\n",
    "                val_bar.set_postfix({'loss': f'{loss.item():.4f}'})\n",
    "        \n",
    "        avg_train_loss = train_loss / len(train_loader)\n",
    "        avg_val_loss = val_loss / len(val_loader)\n",
    "        \n",
    "        # Store losses for plotting\n",
    "        train_losses.append(avg_train_loss)\n",
    "        val_losses.append(avg_val_loss)\n",
    "        \n",
    "        print(f'Epoch {epoch+1}:')\n",
    "        print(f'Average Training Loss: {avg_train_loss:.4f}')\n",
    "        print(f'Average Validation Loss: {avg_val_loss:.4f}')\n",
    "        print('------------------------')\n",
    "        \n",
    "        # Learning rate scheduling\n",
    "        scheduler.step(avg_val_loss)\n",
    "        \n",
    "        # Save best model\n",
    "        if avg_val_loss < best_val_loss:\n",
    "            best_val_loss = avg_val_loss\n",
    "            best_model = model.state_dict()\n",
    "    \n",
    "    # Plot losses\n",
    "    plot_losses(train_losses, val_losses)\n",
    "    \n",
    "    # Load best model\n",
    "    model.load_state_dict(best_model)\n",
    "    return model"
   ]
  },
  {
   "cell_type": "code",
   "execution_count": 25,
   "metadata": {},
   "outputs": [
    {
     "name": "stderr",
     "output_type": "stream",
     "text": [
      "Training Epoch 1/50: 100%|██████████| 500/500 [03:18<00:00,  2.52it/s, loss=0.0196]\n",
      "Validation Epoch 1/50: 100%|██████████| 63/63 [00:16<00:00,  3.91it/s, loss=0.0222]\n"
     ]
    },
    {
     "name": "stdout",
     "output_type": "stream",
     "text": [
      "Epoch 1:\n",
      "Average Training Loss: 0.0326\n",
      "Average Validation Loss: 0.0207\n",
      "------------------------\n"
     ]
    },
    {
     "name": "stderr",
     "output_type": "stream",
     "text": [
      "Training Epoch 2/50: 100%|██████████| 500/500 [03:14<00:00,  2.57it/s, loss=0.0199]\n",
      "Validation Epoch 2/50: 100%|██████████| 63/63 [00:16<00:00,  3.89it/s, loss=0.0167]\n"
     ]
    },
    {
     "name": "stdout",
     "output_type": "stream",
     "text": [
      "Epoch 2:\n",
      "Average Training Loss: 0.0202\n",
      "Average Validation Loss: 0.0193\n",
      "------------------------\n"
     ]
    },
    {
     "name": "stderr",
     "output_type": "stream",
     "text": [
      "Training Epoch 3/50: 100%|██████████| 500/500 [03:16<00:00,  2.55it/s, loss=0.0190]\n",
      "Validation Epoch 3/50: 100%|██████████| 63/63 [00:16<00:00,  3.86it/s, loss=0.0182]\n"
     ]
    },
    {
     "name": "stdout",
     "output_type": "stream",
     "text": [
      "Epoch 3:\n",
      "Average Training Loss: 0.0192\n",
      "Average Validation Loss: 0.0189\n",
      "------------------------\n"
     ]
    },
    {
     "name": "stderr",
     "output_type": "stream",
     "text": [
      "Training Epoch 4/50: 100%|██████████| 500/500 [03:35<00:00,  2.32it/s, loss=0.0180]\n",
      "Validation Epoch 4/50: 100%|██████████| 63/63 [00:17<00:00,  3.61it/s, loss=0.0164]\n"
     ]
    },
    {
     "name": "stdout",
     "output_type": "stream",
     "text": [
      "Epoch 4:\n",
      "Average Training Loss: 0.0184\n",
      "Average Validation Loss: 0.0176\n",
      "------------------------\n"
     ]
    },
    {
     "name": "stderr",
     "output_type": "stream",
     "text": [
      "Training Epoch 5/50: 100%|██████████| 500/500 [03:40<00:00,  2.27it/s, loss=0.0160]\n",
      "Validation Epoch 5/50: 100%|██████████| 63/63 [00:17<00:00,  3.67it/s, loss=0.0160]\n"
     ]
    },
    {
     "name": "stdout",
     "output_type": "stream",
     "text": [
      "Epoch 5:\n",
      "Average Training Loss: 0.0178\n",
      "Average Validation Loss: 0.0170\n",
      "------------------------\n"
     ]
    },
    {
     "name": "stderr",
     "output_type": "stream",
     "text": [
      "Training Epoch 6/50: 100%|██████████| 500/500 [03:38<00:00,  2.29it/s, loss=0.0141]\n",
      "Validation Epoch 6/50: 100%|██████████| 63/63 [00:17<00:00,  3.70it/s, loss=0.0188]\n"
     ]
    },
    {
     "name": "stdout",
     "output_type": "stream",
     "text": [
      "Epoch 6:\n",
      "Average Training Loss: 0.0171\n",
      "Average Validation Loss: 0.0165\n",
      "------------------------\n"
     ]
    },
    {
     "name": "stderr",
     "output_type": "stream",
     "text": [
      "Training Epoch 7/50: 100%|██████████| 500/500 [03:35<00:00,  2.32it/s, loss=0.0166]\n",
      "Validation Epoch 7/50: 100%|██████████| 63/63 [00:17<00:00,  3.64it/s, loss=0.0217]\n"
     ]
    },
    {
     "name": "stdout",
     "output_type": "stream",
     "text": [
      "Epoch 7:\n",
      "Average Training Loss: 0.0165\n",
      "Average Validation Loss: 0.0160\n",
      "------------------------\n"
     ]
    },
    {
     "name": "stderr",
     "output_type": "stream",
     "text": [
      "Training Epoch 8/50: 100%|██████████| 500/500 [03:36<00:00,  2.31it/s, loss=0.0177]\n",
      "Validation Epoch 8/50: 100%|██████████| 63/63 [00:17<00:00,  3.65it/s, loss=0.0156]\n"
     ]
    },
    {
     "name": "stdout",
     "output_type": "stream",
     "text": [
      "Epoch 8:\n",
      "Average Training Loss: 0.0163\n",
      "Average Validation Loss: 0.0152\n",
      "------------------------\n"
     ]
    },
    {
     "name": "stderr",
     "output_type": "stream",
     "text": [
      "Training Epoch 9/50: 100%|██████████| 500/500 [03:33<00:00,  2.34it/s, loss=0.0169]\n",
      "Validation Epoch 9/50: 100%|██████████| 63/63 [00:17<00:00,  3.64it/s, loss=0.0173]\n"
     ]
    },
    {
     "name": "stdout",
     "output_type": "stream",
     "text": [
      "Epoch 9:\n",
      "Average Training Loss: 0.0158\n",
      "Average Validation Loss: 0.0156\n",
      "------------------------\n"
     ]
    },
    {
     "name": "stderr",
     "output_type": "stream",
     "text": [
      "Training Epoch 10/50: 100%|██████████| 500/500 [03:36<00:00,  2.31it/s, loss=0.0163]\n",
      "Validation Epoch 10/50: 100%|██████████| 63/63 [00:17<00:00,  3.63it/s, loss=0.0122]\n"
     ]
    },
    {
     "name": "stdout",
     "output_type": "stream",
     "text": [
      "Epoch 10:\n",
      "Average Training Loss: 0.0155\n",
      "Average Validation Loss: 0.0151\n",
      "------------------------\n"
     ]
    },
    {
     "name": "stderr",
     "output_type": "stream",
     "text": [
      "Training Epoch 11/50: 100%|██████████| 500/500 [03:35<00:00,  2.32it/s, loss=0.0145]\n",
      "Validation Epoch 11/50: 100%|██████████| 63/63 [00:17<00:00,  3.59it/s, loss=0.0139]\n"
     ]
    },
    {
     "name": "stdout",
     "output_type": "stream",
     "text": [
      "Epoch 11:\n",
      "Average Training Loss: 0.0154\n",
      "Average Validation Loss: 0.0147\n",
      "------------------------\n"
     ]
    },
    {
     "name": "stderr",
     "output_type": "stream",
     "text": [
      "Training Epoch 12/50: 100%|██████████| 500/500 [03:34<00:00,  2.33it/s, loss=0.0183]\n",
      "Validation Epoch 12/50: 100%|██████████| 63/63 [00:17<00:00,  3.58it/s, loss=0.0165]\n"
     ]
    },
    {
     "name": "stdout",
     "output_type": "stream",
     "text": [
      "Epoch 12:\n",
      "Average Training Loss: 0.0150\n",
      "Average Validation Loss: 0.0149\n",
      "------------------------\n"
     ]
    },
    {
     "name": "stderr",
     "output_type": "stream",
     "text": [
      "Training Epoch 13/50: 100%|██████████| 500/500 [03:34<00:00,  2.33it/s, loss=0.0149]\n",
      "Validation Epoch 13/50: 100%|██████████| 63/63 [00:17<00:00,  3.63it/s, loss=0.0150]\n"
     ]
    },
    {
     "name": "stdout",
     "output_type": "stream",
     "text": [
      "Epoch 13:\n",
      "Average Training Loss: 0.0148\n",
      "Average Validation Loss: 0.0144\n",
      "------------------------\n"
     ]
    },
    {
     "name": "stderr",
     "output_type": "stream",
     "text": [
      "Training Epoch 14/50: 100%|██████████| 500/500 [03:22<00:00,  2.47it/s, loss=0.0146]\n",
      "Validation Epoch 14/50: 100%|██████████| 63/63 [00:16<00:00,  3.93it/s, loss=0.0128]\n"
     ]
    },
    {
     "name": "stdout",
     "output_type": "stream",
     "text": [
      "Epoch 14:\n",
      "Average Training Loss: 0.0147\n",
      "Average Validation Loss: 0.0144\n",
      "------------------------\n"
     ]
    },
    {
     "name": "stderr",
     "output_type": "stream",
     "text": [
      "Training Epoch 15/50: 100%|██████████| 500/500 [03:16<00:00,  2.55it/s, loss=0.0164]\n",
      "Validation Epoch 15/50: 100%|██████████| 63/63 [00:16<00:00,  3.74it/s, loss=0.0113]\n"
     ]
    },
    {
     "name": "stdout",
     "output_type": "stream",
     "text": [
      "Epoch 15:\n",
      "Average Training Loss: 0.0144\n",
      "Average Validation Loss: 0.0138\n",
      "------------------------\n"
     ]
    },
    {
     "name": "stderr",
     "output_type": "stream",
     "text": [
      "Training Epoch 16/50: 100%|██████████| 500/500 [03:35<00:00,  2.32it/s, loss=0.0163]\n",
      "Validation Epoch 16/50: 100%|██████████| 63/63 [00:17<00:00,  3.65it/s, loss=0.0126]\n"
     ]
    },
    {
     "name": "stdout",
     "output_type": "stream",
     "text": [
      "Epoch 16:\n",
      "Average Training Loss: 0.0143\n",
      "Average Validation Loss: 0.0137\n",
      "------------------------\n"
     ]
    },
    {
     "name": "stderr",
     "output_type": "stream",
     "text": [
      "Training Epoch 17/50: 100%|██████████| 500/500 [03:37<00:00,  2.30it/s, loss=0.0134]\n",
      "Validation Epoch 17/50: 100%|██████████| 63/63 [00:17<00:00,  3.70it/s, loss=0.0142]\n"
     ]
    },
    {
     "name": "stdout",
     "output_type": "stream",
     "text": [
      "Epoch 17:\n",
      "Average Training Loss: 0.0142\n",
      "Average Validation Loss: 0.0139\n",
      "------------------------\n"
     ]
    },
    {
     "name": "stderr",
     "output_type": "stream",
     "text": [
      "Training Epoch 18/50: 100%|██████████| 500/500 [03:35<00:00,  2.32it/s, loss=0.0168]\n",
      "Validation Epoch 18/50: 100%|██████████| 63/63 [00:17<00:00,  3.69it/s, loss=0.0132]\n"
     ]
    },
    {
     "name": "stdout",
     "output_type": "stream",
     "text": [
      "Epoch 18:\n",
      "Average Training Loss: 0.0141\n",
      "Average Validation Loss: 0.0136\n",
      "------------------------\n"
     ]
    },
    {
     "name": "stderr",
     "output_type": "stream",
     "text": [
      "Training Epoch 19/50: 100%|██████████| 500/500 [03:34<00:00,  2.33it/s, loss=0.0165]\n",
      "Validation Epoch 19/50: 100%|██████████| 63/63 [00:17<00:00,  3.67it/s, loss=0.0103]\n"
     ]
    },
    {
     "name": "stdout",
     "output_type": "stream",
     "text": [
      "Epoch 19:\n",
      "Average Training Loss: 0.0139\n",
      "Average Validation Loss: 0.0132\n",
      "------------------------\n"
     ]
    },
    {
     "name": "stderr",
     "output_type": "stream",
     "text": [
      "Training Epoch 20/50: 100%|██████████| 500/500 [03:33<00:00,  2.34it/s, loss=0.0136]\n",
      "Validation Epoch 20/50: 100%|██████████| 63/63 [00:17<00:00,  3.68it/s, loss=0.0177]\n"
     ]
    },
    {
     "name": "stdout",
     "output_type": "stream",
     "text": [
      "Epoch 20:\n",
      "Average Training Loss: 0.0139\n",
      "Average Validation Loss: 0.0134\n",
      "------------------------\n"
     ]
    },
    {
     "name": "stderr",
     "output_type": "stream",
     "text": [
      "Training Epoch 21/50: 100%|██████████| 500/500 [03:34<00:00,  2.33it/s, loss=0.0145]\n",
      "Validation Epoch 21/50: 100%|██████████| 63/63 [00:17<00:00,  3.65it/s, loss=0.0171]\n"
     ]
    },
    {
     "name": "stdout",
     "output_type": "stream",
     "text": [
      "Epoch 21:\n",
      "Average Training Loss: 0.0136\n",
      "Average Validation Loss: 0.0138\n",
      "------------------------\n"
     ]
    },
    {
     "name": "stderr",
     "output_type": "stream",
     "text": [
      "Training Epoch 22/50: 100%|██████████| 500/500 [03:35<00:00,  2.32it/s, loss=0.0169]\n",
      "Validation Epoch 22/50: 100%|██████████| 63/63 [00:17<00:00,  3.58it/s, loss=0.0154]\n"
     ]
    },
    {
     "name": "stdout",
     "output_type": "stream",
     "text": [
      "Epoch 22:\n",
      "Average Training Loss: 0.0136\n",
      "Average Validation Loss: 0.0135\n",
      "------------------------\n"
     ]
    },
    {
     "name": "stderr",
     "output_type": "stream",
     "text": [
      "Training Epoch 23/50: 100%|██████████| 500/500 [03:34<00:00,  2.33it/s, loss=0.0112]\n",
      "Validation Epoch 23/50: 100%|██████████| 63/63 [00:17<00:00,  3.65it/s, loss=0.0135]\n"
     ]
    },
    {
     "name": "stdout",
     "output_type": "stream",
     "text": [
      "Epoch 23:\n",
      "Average Training Loss: 0.0134\n",
      "Average Validation Loss: 0.0135\n",
      "------------------------\n"
     ]
    },
    {
     "name": "stderr",
     "output_type": "stream",
     "text": [
      "Training Epoch 24/50: 100%|██████████| 500/500 [03:20<00:00,  2.50it/s, loss=0.0129]\n",
      "Validation Epoch 24/50: 100%|██████████| 63/63 [00:16<00:00,  3.87it/s, loss=0.0075]\n"
     ]
    },
    {
     "name": "stdout",
     "output_type": "stream",
     "text": [
      "Epoch 24:\n",
      "Average Training Loss: 0.0134\n",
      "Average Validation Loss: 0.0131\n",
      "------------------------\n"
     ]
    },
    {
     "name": "stderr",
     "output_type": "stream",
     "text": [
      "Training Epoch 25/50: 100%|██████████| 500/500 [03:16<00:00,  2.55it/s, loss=0.0157]\n",
      "Validation Epoch 25/50: 100%|██████████| 63/63 [00:15<00:00,  3.95it/s, loss=0.0118]\n"
     ]
    },
    {
     "name": "stdout",
     "output_type": "stream",
     "text": [
      "Epoch 25:\n",
      "Average Training Loss: 0.0134\n",
      "Average Validation Loss: 0.0130\n",
      "------------------------\n"
     ]
    },
    {
     "name": "stderr",
     "output_type": "stream",
     "text": [
      "Training Epoch 26/50: 100%|██████████| 500/500 [03:18<00:00,  2.52it/s, loss=0.0140]\n",
      "Validation Epoch 26/50: 100%|██████████| 63/63 [00:16<00:00,  3.90it/s, loss=0.0100]\n"
     ]
    },
    {
     "name": "stdout",
     "output_type": "stream",
     "text": [
      "Epoch 26:\n",
      "Average Training Loss: 0.0132\n",
      "Average Validation Loss: 0.0132\n",
      "------------------------\n"
     ]
    },
    {
     "name": "stderr",
     "output_type": "stream",
     "text": [
      "Training Epoch 27/50: 100%|██████████| 500/500 [03:15<00:00,  2.56it/s, loss=0.0125]\n",
      "Validation Epoch 27/50: 100%|██████████| 63/63 [00:16<00:00,  3.84it/s, loss=0.0143]\n"
     ]
    },
    {
     "name": "stdout",
     "output_type": "stream",
     "text": [
      "Epoch 27:\n",
      "Average Training Loss: 0.0131\n",
      "Average Validation Loss: 0.0126\n",
      "------------------------\n"
     ]
    },
    {
     "name": "stderr",
     "output_type": "stream",
     "text": [
      "Training Epoch 28/50: 100%|██████████| 500/500 [03:15<00:00,  2.56it/s, loss=0.0148]\n",
      "Validation Epoch 28/50: 100%|██████████| 63/63 [00:16<00:00,  3.88it/s, loss=0.0120]\n"
     ]
    },
    {
     "name": "stdout",
     "output_type": "stream",
     "text": [
      "Epoch 28:\n",
      "Average Training Loss: 0.0130\n",
      "Average Validation Loss: 0.0128\n",
      "------------------------\n"
     ]
    },
    {
     "name": "stderr",
     "output_type": "stream",
     "text": [
      "Training Epoch 29/50: 100%|██████████| 500/500 [03:15<00:00,  2.56it/s, loss=0.0118]\n",
      "Validation Epoch 29/50: 100%|██████████| 63/63 [00:19<00:00,  3.30it/s, loss=0.0134]\n"
     ]
    },
    {
     "name": "stdout",
     "output_type": "stream",
     "text": [
      "Epoch 29:\n",
      "Average Training Loss: 0.0130\n",
      "Average Validation Loss: 0.0128\n",
      "------------------------\n"
     ]
    },
    {
     "name": "stderr",
     "output_type": "stream",
     "text": [
      "Training Epoch 30/50: 100%|██████████| 500/500 [03:49<00:00,  2.18it/s, loss=0.0128]\n",
      "Validation Epoch 30/50: 100%|██████████| 63/63 [00:19<00:00,  3.31it/s, loss=0.0175]\n"
     ]
    },
    {
     "name": "stdout",
     "output_type": "stream",
     "text": [
      "Epoch 30:\n",
      "Average Training Loss: 0.0129\n",
      "Average Validation Loss: 0.0129\n",
      "------------------------\n"
     ]
    },
    {
     "name": "stderr",
     "output_type": "stream",
     "text": [
      "Training Epoch 31/50: 100%|██████████| 500/500 [03:45<00:00,  2.22it/s, loss=0.0122]\n",
      "Validation Epoch 31/50: 100%|██████████| 63/63 [00:17<00:00,  3.52it/s, loss=0.0128]\n"
     ]
    },
    {
     "name": "stdout",
     "output_type": "stream",
     "text": [
      "Epoch 31:\n",
      "Average Training Loss: 0.0128\n",
      "Average Validation Loss: 0.0127\n",
      "------------------------\n"
     ]
    },
    {
     "name": "stderr",
     "output_type": "stream",
     "text": [
      "Training Epoch 32/50: 100%|██████████| 500/500 [03:43<00:00,  2.24it/s, loss=0.0114]\n",
      "Validation Epoch 32/50: 100%|██████████| 63/63 [00:18<00:00,  3.46it/s, loss=0.0099]\n"
     ]
    },
    {
     "name": "stdout",
     "output_type": "stream",
     "text": [
      "Epoch 32:\n",
      "Average Training Loss: 0.0128\n",
      "Average Validation Loss: 0.0124\n",
      "------------------------\n"
     ]
    },
    {
     "name": "stderr",
     "output_type": "stream",
     "text": [
      "Training Epoch 33/50: 100%|██████████| 500/500 [03:41<00:00,  2.26it/s, loss=0.0145]\n",
      "Validation Epoch 33/50: 100%|██████████| 63/63 [00:18<00:00,  3.37it/s, loss=0.0114]\n"
     ]
    },
    {
     "name": "stdout",
     "output_type": "stream",
     "text": [
      "Epoch 33:\n",
      "Average Training Loss: 0.0128\n",
      "Average Validation Loss: 0.0126\n",
      "------------------------\n"
     ]
    },
    {
     "name": "stderr",
     "output_type": "stream",
     "text": [
      "Training Epoch 34/50: 100%|██████████| 500/500 [03:39<00:00,  2.28it/s, loss=0.0122]\n",
      "Validation Epoch 34/50: 100%|██████████| 63/63 [00:17<00:00,  3.57it/s, loss=0.0166]\n"
     ]
    },
    {
     "name": "stdout",
     "output_type": "stream",
     "text": [
      "Epoch 34:\n",
      "Average Training Loss: 0.0128\n",
      "Average Validation Loss: 0.0126\n",
      "------------------------\n"
     ]
    },
    {
     "name": "stderr",
     "output_type": "stream",
     "text": [
      "Training Epoch 35/50: 100%|██████████| 500/500 [03:34<00:00,  2.34it/s, loss=0.0129]\n",
      "Validation Epoch 35/50: 100%|██████████| 63/63 [00:15<00:00,  4.09it/s, loss=0.0119]\n"
     ]
    },
    {
     "name": "stdout",
     "output_type": "stream",
     "text": [
      "Epoch 35:\n",
      "Average Training Loss: 0.0127\n",
      "Average Validation Loss: 0.0128\n",
      "------------------------\n"
     ]
    },
    {
     "name": "stderr",
     "output_type": "stream",
     "text": [
      "Training Epoch 36/50: 100%|██████████| 500/500 [02:59<00:00,  2.79it/s, loss=0.0124]\n",
      "Validation Epoch 36/50: 100%|██████████| 63/63 [00:15<00:00,  4.13it/s, loss=0.0113]\n"
     ]
    },
    {
     "name": "stdout",
     "output_type": "stream",
     "text": [
      "Epoch 36:\n",
      "Average Training Loss: 0.0125\n",
      "Average Validation Loss: 0.0123\n",
      "------------------------\n"
     ]
    },
    {
     "name": "stderr",
     "output_type": "stream",
     "text": [
      "Training Epoch 37/50: 100%|██████████| 500/500 [02:58<00:00,  2.80it/s, loss=0.0107]\n",
      "Validation Epoch 37/50: 100%|██████████| 63/63 [00:15<00:00,  4.11it/s, loss=0.0095]\n"
     ]
    },
    {
     "name": "stdout",
     "output_type": "stream",
     "text": [
      "Epoch 37:\n",
      "Average Training Loss: 0.0126\n",
      "Average Validation Loss: 0.0124\n",
      "------------------------\n"
     ]
    },
    {
     "name": "stderr",
     "output_type": "stream",
     "text": [
      "Training Epoch 38/50: 100%|██████████| 500/500 [02:58<00:00,  2.80it/s, loss=0.0118]\n",
      "Validation Epoch 38/50: 100%|██████████| 63/63 [00:15<00:00,  4.11it/s, loss=0.0135]\n"
     ]
    },
    {
     "name": "stdout",
     "output_type": "stream",
     "text": [
      "Epoch 38:\n",
      "Average Training Loss: 0.0125\n",
      "Average Validation Loss: 0.0124\n",
      "------------------------\n"
     ]
    },
    {
     "name": "stderr",
     "output_type": "stream",
     "text": [
      "Training Epoch 39/50: 100%|██████████| 500/500 [02:59<00:00,  2.79it/s, loss=0.0162]\n",
      "Validation Epoch 39/50: 100%|██████████| 63/63 [00:15<00:00,  4.12it/s, loss=0.0103]\n"
     ]
    },
    {
     "name": "stdout",
     "output_type": "stream",
     "text": [
      "Epoch 39:\n",
      "Average Training Loss: 0.0125\n",
      "Average Validation Loss: 0.0120\n",
      "------------------------\n"
     ]
    },
    {
     "name": "stderr",
     "output_type": "stream",
     "text": [
      "Training Epoch 40/50: 100%|██████████| 500/500 [02:59<00:00,  2.79it/s, loss=0.0129]\n",
      "Validation Epoch 40/50: 100%|██████████| 63/63 [00:15<00:00,  4.12it/s, loss=0.0133]\n"
     ]
    },
    {
     "name": "stdout",
     "output_type": "stream",
     "text": [
      "Epoch 40:\n",
      "Average Training Loss: 0.0124\n",
      "Average Validation Loss: 0.0125\n",
      "------------------------\n"
     ]
    },
    {
     "name": "stderr",
     "output_type": "stream",
     "text": [
      "Training Epoch 41/50: 100%|██████████| 500/500 [02:59<00:00,  2.79it/s, loss=0.0126]\n",
      "Validation Epoch 41/50: 100%|██████████| 63/63 [00:15<00:00,  4.10it/s, loss=0.0128]\n"
     ]
    },
    {
     "name": "stdout",
     "output_type": "stream",
     "text": [
      "Epoch 41:\n",
      "Average Training Loss: 0.0125\n",
      "Average Validation Loss: 0.0120\n",
      "------------------------\n"
     ]
    },
    {
     "name": "stderr",
     "output_type": "stream",
     "text": [
      "Training Epoch 42/50: 100%|██████████| 500/500 [02:59<00:00,  2.79it/s, loss=0.0096]\n",
      "Validation Epoch 42/50: 100%|██████████| 63/63 [00:15<00:00,  4.12it/s, loss=0.0149]\n"
     ]
    },
    {
     "name": "stdout",
     "output_type": "stream",
     "text": [
      "Epoch 42:\n",
      "Average Training Loss: 0.0124\n",
      "Average Validation Loss: 0.0122\n",
      "------------------------\n"
     ]
    },
    {
     "name": "stderr",
     "output_type": "stream",
     "text": [
      "Training Epoch 43/50: 100%|██████████| 500/500 [02:59<00:00,  2.79it/s, loss=0.0118]\n",
      "Validation Epoch 43/50: 100%|██████████| 63/63 [00:15<00:00,  4.12it/s, loss=0.0120]\n"
     ]
    },
    {
     "name": "stdout",
     "output_type": "stream",
     "text": [
      "Epoch 43:\n",
      "Average Training Loss: 0.0123\n",
      "Average Validation Loss: 0.0119\n",
      "------------------------\n"
     ]
    },
    {
     "name": "stderr",
     "output_type": "stream",
     "text": [
      "Training Epoch 44/50: 100%|██████████| 500/500 [02:59<00:00,  2.79it/s, loss=0.0110]\n",
      "Validation Epoch 44/50: 100%|██████████| 63/63 [00:15<00:00,  4.09it/s, loss=0.0137]\n"
     ]
    },
    {
     "name": "stdout",
     "output_type": "stream",
     "text": [
      "Epoch 44:\n",
      "Average Training Loss: 0.0122\n",
      "Average Validation Loss: 0.0123\n",
      "------------------------\n"
     ]
    },
    {
     "name": "stderr",
     "output_type": "stream",
     "text": [
      "Training Epoch 45/50: 100%|██████████| 500/500 [02:59<00:00,  2.78it/s, loss=0.0111]\n",
      "Validation Epoch 45/50: 100%|██████████| 63/63 [00:15<00:00,  4.08it/s, loss=0.0088]\n"
     ]
    },
    {
     "name": "stdout",
     "output_type": "stream",
     "text": [
      "Epoch 45:\n",
      "Average Training Loss: 0.0123\n",
      "Average Validation Loss: 0.0122\n",
      "------------------------\n"
     ]
    },
    {
     "name": "stderr",
     "output_type": "stream",
     "text": [
      "Training Epoch 46/50: 100%|██████████| 500/500 [02:58<00:00,  2.79it/s, loss=0.0109]\n",
      "Validation Epoch 46/50: 100%|██████████| 63/63 [00:15<00:00,  4.13it/s, loss=0.0094]\n"
     ]
    },
    {
     "name": "stdout",
     "output_type": "stream",
     "text": [
      "Epoch 46:\n",
      "Average Training Loss: 0.0122\n",
      "Average Validation Loss: 0.0116\n",
      "------------------------\n"
     ]
    },
    {
     "name": "stderr",
     "output_type": "stream",
     "text": [
      "Training Epoch 47/50: 100%|██████████| 500/500 [02:59<00:00,  2.78it/s, loss=0.0129]\n",
      "Validation Epoch 47/50: 100%|██████████| 63/63 [00:15<00:00,  4.08it/s, loss=0.0120]\n"
     ]
    },
    {
     "name": "stdout",
     "output_type": "stream",
     "text": [
      "Epoch 47:\n",
      "Average Training Loss: 0.0122\n",
      "Average Validation Loss: 0.0119\n",
      "------------------------\n"
     ]
    },
    {
     "name": "stderr",
     "output_type": "stream",
     "text": [
      "Training Epoch 48/50: 100%|██████████| 500/500 [03:00<00:00,  2.77it/s, loss=0.0119]\n",
      "Validation Epoch 48/50: 100%|██████████| 63/63 [00:15<00:00,  4.09it/s, loss=0.0106]\n"
     ]
    },
    {
     "name": "stdout",
     "output_type": "stream",
     "text": [
      "Epoch 48:\n",
      "Average Training Loss: 0.0121\n",
      "Average Validation Loss: 0.0122\n",
      "------------------------\n"
     ]
    },
    {
     "name": "stderr",
     "output_type": "stream",
     "text": [
      "Training Epoch 49/50: 100%|██████████| 500/500 [03:07<00:00,  2.66it/s, loss=0.0141]\n",
      "Validation Epoch 49/50: 100%|██████████| 63/63 [00:15<00:00,  3.95it/s, loss=0.0107]\n"
     ]
    },
    {
     "name": "stdout",
     "output_type": "stream",
     "text": [
      "Epoch 49:\n",
      "Average Training Loss: 0.0120\n",
      "Average Validation Loss: 0.0119\n",
      "------------------------\n"
     ]
    },
    {
     "name": "stderr",
     "output_type": "stream",
     "text": [
      "Training Epoch 50/50: 100%|██████████| 500/500 [03:01<00:00,  2.75it/s, loss=0.0123]\n",
      "Validation Epoch 50/50: 100%|██████████| 63/63 [00:16<00:00,  3.93it/s, loss=0.0115]\n"
     ]
    },
    {
     "name": "stdout",
     "output_type": "stream",
     "text": [
      "Epoch 50:\n",
      "Average Training Loss: 0.0121\n",
      "Average Validation Loss: 0.0119\n",
      "------------------------\n"
     ]
    },
    {
     "data": {
      "image/png": "[encoded data removed]",
      "text/plain": [
       "<Figure size 1000x600 with 1 Axes>"
      ]
     },
     "metadata": {},
     "output_type": "display_data"
    }
   ],
   "source": [
    "# Initialize and train the model\n",
    "model = FramePredictor().to(device)\n",
    "model = train_model(model, train_loader, val_loader)\n"
   ]
  },
  {
   "cell_type": "code",
   "execution_count": null,
   "metadata": {},
   "outputs": [
    {
     "name": "stdout",
     "output_type": "stream",
     "text": [
      "\n",
      "Visualization sample 1:\n",
      "Input range: 0.0000 to 1.0000\n",
      "Target range: 0.0000 to 1.0000\n",
      "Prediction range: 0.0000 to 0.9860\n",
      "\n",
      "Visualization sample 2:\n",
      "Input range: 0.0000 to 1.0000\n",
      "Target range: 0.0000 to 1.0000\n",
      "Prediction range: 0.0000 to 0.9619\n",
      "\n",
      "Visualization sample 3:\n",
      "Input range: 0.0000 to 1.0000\n",
      "Target range: 0.0000 to 1.0000\n",
      "Prediction range: 0.0000 to 0.9774\n",
      "\n",
      "Visualization sample 4:\n",
      "Input range: 0.0000 to 1.0000\n",
      "Target range: 0.0000 to 1.0000\n",
      "Prediction range: 0.0000 to 0.9955\n",
      "\n",
      "Visualization sample 5:\n",
      "Input range: 0.0000 to 1.0000\n",
      "Target range: 0.0000 to 1.0000\n",
      "Prediction range: 0.0000 to 0.9899\n"
     ]
    },
    {
     "data": {
      "image/png": "[encoded data removed]",
      "text/plain": [
       "<Figure size 1500x1500 with 15 Axes>"
      ]
     },
     "metadata": {},
     "output_type": "display_data"
    }
   ],
   "source": [
    "def visualize_predictions(model, test_data, num_samples=5):\n",
    "    test_loader = DataLoader(test_data, shuffle=True, batch_size=1, collate_fn=collate)\n",
    "    \n",
    "    model.eval()\n",
    "    plt.figure(figsize=(15, 3*num_samples))\n",
    "    \n",
    "    with torch.no_grad():\n",
    "        for i, (inputs, target) in enumerate(test_loader):\n",
    "            if i >= num_samples:\n",
    "                break\n",
    "            \n",
    "            # Debug visualization data\n",
    "            print(f\"\\nVisualization sample {i+1}:\")\n",
    "            print(f\"Input range: {inputs.min().item():.4f} to {inputs.max().item():.4f}\")\n",
    "            print(f\"Target range: {target.min().item():.4f} to {target.max().item():.4f}\")\n",
    "            \n",
    "            prediction = model(inputs)\n",
    "            print(f\"Prediction range: {prediction.min().item():.4f} to {prediction.max().item():.4f}\")\n",
    "            \n",
    "            plt.subplot(num_samples, 3, i*3 + 1)\n",
    "            plt.imshow(inputs[0, 0, -1].cpu().numpy(), cmap='gray')\n",
    "            plt.title(f'Sample {i+1}: Last Input Frame')\n",
    "            plt.axis('off')\n",
    "            \n",
    "            plt.subplot(num_samples, 3, i*3 + 2)\n",
    "            plt.imshow(prediction[0, 0].cpu().numpy(), cmap='gray')\n",
    "            plt.title(f'Sample {i+1}: Predicted Frame')\n",
    "            plt.axis('off')\n",
    "            \n",
    "            plt.subplot(num_samples, 3, i*3 + 3)\n",
    "            plt.imshow(target[0, 0].cpu().numpy(), cmap='gray')\n",
    "            plt.title(f'Sample {i+1}: Actual Next Frame')\n",
    "            plt.axis('off')\n",
    "    \n",
    "    plt.tight_layout()\n",
    "    plt.show()\n",
    "\n",
    "\n",
    "# Visualize predictions\n",
    "visualize_predictions(model, test_data)\n",
    "\n"
   ]
  },
  {
   "cell_type": "code",
   "execution_count": 27,
   "metadata": {},
   "outputs": [],
   "source": [
    "# Save the trained model\n",
    "torch.save(model.state_dict(), 'frame_predictor.pth')"
   ]
  },
  {
   "cell_type": "code",
   "execution_count": null,
   "metadata": {},
   "outputs": [],
   "source": []
  }
 ],
 "metadata": {
  "kernelspec": {
   "display_name": "Python 3",
   "language": "python",
   "name": "python3"
  },
  "language_info": {
   "codemirror_mode": {
    "name": "ipython",
    "version": 3
   },
   "file_extension": ".py",
   "mimetype": "text/x-python",
   "name": "python",
   "nbconvert_exporter": "python",
   "pygments_lexer": "ipython3",
   "version": "3.11.9"
  }
 },
 "nbformat": 4,
 "nbformat_minor": 2
}
